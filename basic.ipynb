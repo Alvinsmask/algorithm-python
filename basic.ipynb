{
 "cells": [
  {
   "cell_type": "markdown",
   "metadata": {},
   "source": [
    "### 搜索 排序 的基本算法"
   ]
  },
  {
   "cell_type": "markdown",
   "metadata": {},
   "source": [
    "1. 有序列表的二叉搜索"
   ]
  },
  {
   "cell_type": "code",
   "execution_count": 1,
   "metadata": {},
   "outputs": [
    {
     "data": {
      "text/plain": [
       "2"
      ]
     },
     "execution_count": 1,
     "metadata": {},
     "output_type": "execute_result"
    }
   ],
   "source": [
    "def binarysearch(target, sortedlist):\n",
    "    left = 0  # 表示的都是有序列表(升序)的下标\n",
    "    right = len(sortedlist)-1\n",
    "    while(left <= right):\n",
    "        mid = (left+right)//2\n",
    "        if target == sortedlist[mid]: \n",
    "            return mid\n",
    "        elif target < sortedlist[mid]: \n",
    "            right = mid - 1\n",
    "        else:\n",
    "            left = mid + 1\n",
    "    rerutn -1\n",
    "    \n",
    "target, sortedlist = 5, [2, 3, 5, 6, 7, 21, 32]\n",
    "binarysearch(target, sortedlist)"
   ]
  },
  {
   "cell_type": "markdown",
   "metadata": {},
   "source": [
    "# 对数据项的比较\n",
    "\n",
    "为了允许算法对一个新对象的类使用比较运算符　＝＝　＜　与　＞，应当在类中定义\\_\\_eq\\_\\_, \\_\\_lt\\_\\_, \\_\\_gt\\_\\_ 方法；\n",
    "\n",
    "这样的话,在进行自定义数据类型的比较是相应的比较运算符就会被重载为\\_\\_eq\\_\\_, \\_\\_lt\\_\\_, \\_\\_gt\\_\\_ 方法.\n",
    "\n",
    "*示例如下* : 一个包含三个字段的自定义数据类型, name,pin,balance(余额);比较大小,排序按照name的字母顺序进行;\n",
    "\n",
    "**除此之外\\_\\_le\\_\\_表示<= \\_\\_ne\\_\\_表示 !=** 其他类比"
   ]
  },
  {
   "cell_type": "code",
   "execution_count": 8,
   "metadata": {},
   "outputs": [
    {
     "data": {
      "text/plain": [
       "True"
      ]
     },
     "execution_count": 8,
     "metadata": {},
     "output_type": "execute_result"
    }
   ],
   "source": [
    "class savingaccount(object):\n",
    "    def __init__(self, name, pin, balance=0.0):\n",
    "        self._name = name\n",
    "        self._pin = pin\n",
    "        self._balance = balance\n",
    "    \n",
    "    def __eq__(self,other):\n",
    "        return self._name == other._name\n",
    "    \n",
    "    def __lt__(self,other):\n",
    "        return self._name < other._name\n",
    "    \n",
    "    def __gt__(self,other):\n",
    "        return self._name > other._name\n",
    "    \n",
    "s1 = savingaccount('jack', '1001')\n",
    "s2 = savingaccount('bob', '1000')\n",
    "s1 > s2"
   ]
  },
  {
   "cell_type": "markdown",
   "metadata": {},
   "source": [
    "### 基本排序算法"
   ]
  },
  {
   "cell_type": "code",
   "execution_count": null,
   "metadata": {},
   "outputs": [],
   "source": []
  }
 ],
 "metadata": {
  "kernelspec": {
   "display_name": "Python 3",
   "language": "python",
   "name": "python3"
  },
  "language_info": {
   "codemirror_mode": {
    "name": "ipython",
    "version": 3
   },
   "file_extension": ".py",
   "mimetype": "text/x-python",
   "name": "python",
   "nbconvert_exporter": "python",
   "pygments_lexer": "ipython3",
   "version": "3.6.5"
  }
 },
 "nbformat": 4,
 "nbformat_minor": 2
}
