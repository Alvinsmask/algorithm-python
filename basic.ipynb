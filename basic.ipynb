{
 "cells": [
  {
   "cell_type": "markdown",
   "metadata": {},
   "source": [
    "## 搜索 排序 的基本算法"
   ]
  },
  {
   "cell_type": "markdown",
   "metadata": {},
   "source": [
    "### 有序列表的二叉搜索"
   ]
  },
  {
   "cell_type": "code",
   "execution_count": 1,
   "metadata": {},
   "outputs": [
    {
     "data": {
      "text/plain": [
       "2"
      ]
     },
     "execution_count": 1,
     "metadata": {},
     "output_type": "execute_result"
    }
   ],
   "source": [
    "def binarysearch(target, sortedlist):\n",
    "    left = 0  # 表示的都是有序列表(升序)的下标\n",
    "    right = len(sortedlist)-1\n",
    "    while(left <= right):\n",
    "        mid = (left+right)//2\n",
    "        if target == sortedlist[mid]: \n",
    "            return mid\n",
    "        elif target < sortedlist[mid]: \n",
    "            right = mid - 1\n",
    "        else:\n",
    "            left = mid + 1\n",
    "    rerutn -1\n",
    "    \n",
    "target, sortedlist = 5, [2, 3, 5, 6, 7, 21, 32]\n",
    "binarysearch(target, sortedlist)"
   ]
  },
  {
   "cell_type": "markdown",
   "metadata": {},
   "source": [
    "### 对数据项的比较\n",
    "\n",
    "为了允许算法对一个新对象的类使用比较运算符　＝＝　＜　与　＞，应当在类中定义\\_\\_eq\\_\\_, \\_\\_lt\\_\\_, \\_\\_gt\\_\\_ 方法；\n",
    "\n",
    "这样的话,在进行自定义数据类型的比较是相应的比较运算符就会被重载为\\_\\_eq\\_\\_, \\_\\_lt\\_\\_, \\_\\_gt\\_\\_ 方法.\n",
    "\n",
    "*示例如下* : 一个包含三个字段的自定义数据类型, name,pin,balance(余额);比较大小,排序按照name的字母顺序进行;\n",
    "\n",
    "**除此之外\\_\\_le\\_\\_表示<= \\_\\_ne\\_\\_表示 !=** 其他类比"
   ]
  },
  {
   "cell_type": "code",
   "execution_count": 2,
   "metadata": {},
   "outputs": [
    {
     "data": {
      "text/plain": [
       "True"
      ]
     },
     "execution_count": 2,
     "metadata": {},
     "output_type": "execute_result"
    }
   ],
   "source": [
    "class savingaccount(object):\n",
    "    def __init__(self, name, pin, balance=0.0):\n",
    "        self._name = name\n",
    "        self._pin = pin\n",
    "        self._balance = balance\n",
    "    \n",
    "    def __eq__(self,other):\n",
    "        return self._name == other._name\n",
    "    \n",
    "    def __lt__(self,other):\n",
    "        return self._name < other._name\n",
    "    \n",
    "    def __gt__(self,other):\n",
    "        return self._name > other._name\n",
    "    \n",
    "s1 = savingaccount('jack', '1001')\n",
    "s2 = savingaccount('bob', '1000')\n",
    "s1 > s2"
   ]
  },
  {
   "cell_type": "markdown",
   "metadata": {},
   "source": [
    "### 基本排序算法"
   ]
  },
  {
   "cell_type": "code",
   "execution_count": 3,
   "metadata": {},
   "outputs": [
    {
     "data": {
      "text/plain": [
       "[1, 1, 2, 3, 3, 5, 68, 77, 213, 321, 667]"
      ]
     },
     "execution_count": 3,
     "metadata": {},
     "output_type": "execute_result"
    }
   ],
   "source": [
    "'''选择排序'''\n",
    "# 搜索整个列表找到最小项的位置,如果该位置不是列表的首位则与首位交换,然后从列表第二项开始继续重复搜索\n",
    "def swap(lyst, i, j):\n",
    "    \"\"\"定义排序过程中交换列表中两项位置的函数\"\"\"\n",
    "    temp = lyst[i]\n",
    "    lyst[i] = lyst[j]\n",
    "    lyst[j] = temp\n",
    "\n",
    "\n",
    "def selectionsort(lyst):\n",
    "    i = 0\n",
    "    while i < len(lyst) - 1:\n",
    "        minindex = i\n",
    "        j = i + 1\n",
    "        while j < len(lyst):\n",
    "            if lyst[j] < lyst[minindex]:\n",
    "                swap(lyst, j, minindex)\n",
    "                minindex = j\n",
    "            j += 1\n",
    "        i += 1\n",
    "    return lyst\n",
    "selectionsort([2,1,1,77,3,3,5,321,68,213,667])"
   ]
  },
  {
   "cell_type": "code",
   "execution_count": 4,
   "metadata": {},
   "outputs": [
    {
     "data": {
      "text/plain": [
       "[1, 1, 2, 3, 3, 5, 68, 77, 213, 321, 667]"
      ]
     },
     "execution_count": 4,
     "metadata": {},
     "output_type": "execute_result"
    }
   ],
   "source": [
    "\"\"\"冒泡排序\"\"\"\n",
    "# bubble sort 从列表开头处开始,逐次比较一对数据项,直到移动到列表末尾,每当成对的两项之间的顺序不正确的时候,算法就交换其位置\n",
    "def bubblesort(lyst):\n",
    "    i = 0\n",
    "    while(i<len(lyst)-1):\n",
    "        swapped = False\n",
    "        j = i+1\n",
    "        while j<len(lyst):\n",
    "            if lyst[j-1]>lyst[j]:\n",
    "                swap(lyst, j-1, j)\n",
    "                swapped = True\n",
    "            j += 1\n",
    "        if not swapped == True: return lyst\n",
    "        i += 1\n",
    "    return lyst\n",
    "        \n",
    "bubblesort([2,1,1,77,3,3,5,321,68,213,667])"
   ]
  },
  {
   "cell_type": "code",
   "execution_count": 5,
   "metadata": {},
   "outputs": [
    {
     "data": {
      "text/plain": [
       "[1, 1, 2, 3, 3, 5, 68, 77, 213, 321, 667]"
      ]
     },
     "execution_count": 5,
     "metadata": {},
     "output_type": "execute_result"
    }
   ],
   "source": [
    "\"\"\"插入排序\"\"\"\n",
    "# 在第i次循环的时候把数据插入第i个正确的位置\n",
    "def insertsort(lyst):\n",
    "    i = 0\n",
    "    while i < len(lyst)-1:\n",
    "        j = i+1\n",
    "        while j<len(lyst):\n",
    "            if lyst[i]>lyst[j]:\n",
    "                swap(lyst, i, j)\n",
    "            j += 1\n",
    "        i += 1\n",
    "    return lyst\n",
    "insertsort([2,1,1,77,3,3,5,321,68,213,667])"
   ]
  },
  {
   "cell_type": "markdown",
   "metadata": {},
   "source": [
    "### 快速排序\n",
    "\n",
    "基准点与边界相遇时确认分割得到两个子列表,递归地使用,当所有子列表最大长度均为1时,完成排序;**基准点的选择可以采用随机位置, 或者第一个元素\n",
    " 中间元素和最后的元素之间的中位数的位置**"
   ]
  },
  {
   "cell_type": "markdown",
   "metadata": {},
   "source": [
    "#### 分割子列表的算法描述:\n",
    "\n",
    "1. 将基准点和子列表中的最后一项交换\n",
    "2. 在已知小于基准点的项和剩余的项之间建立一个边界,一开始这个边界放在第一项之前\n",
    "3. 从子列表的第一项开始,扫描整个子列表,每次遇到小于基准点的项就将其与边界之后的第一项交换,并且边界向后移动\n",
    "4. 将基准点和边界之后的第一项交换, 完成这个过程"
   ]
  },
  {
   "cell_type": "code",
   "execution_count": 6,
   "metadata": {},
   "outputs": [],
   "source": [
    "# 原地排序,无须另外开辟内存\n",
    "def quicksort(lyst):\n",
    "    return quicksorthelper(lyst,0,len(lyst)-1)\n",
    "def quicksorthelper(lyst,left,right):\n",
    "    if left<right:\n",
    "        pivotlocation = partition(lyst,left,right)\n",
    "        quicksorthelper(lyst,left,pivotlocation-1)  # 递归\n",
    "        quicksorthelper(lyst,pivotlocation+1,right)\n",
    "    return lyst\n",
    "def partition(lyst,left,right):\n",
    "    middle=(left+right)//2\n",
    "    pivot = lyst[middle]\n",
    "    lyst[middle]=lyst[right]\n",
    "    lyst[right]=pivot\n",
    "    boundary=left\n",
    "    for i in range(left,right):\n",
    "        if lyst[i]<pivot:  # 扫描子列表,遇到小于基准点的项就将其与边界之后的第一项交换,并且边界向后移动\n",
    "            swap(lyst,i,boundary)\n",
    "            boundary += 1\n",
    "    swap(lyst,right,boundary)\n",
    "    return boundary"
   ]
  },
  {
   "cell_type": "code",
   "execution_count": 13,
   "metadata": {},
   "outputs": [
    {
     "name": "stdout",
     "output_type": "stream",
     "text": [
      "[2, 20, 13, 10, 0, 6, 20, 17, 5, 20, 6, 15, 16, 16, 4]\n",
      "[0, 2, 4, 5, 6, 6, 10, 13, 15, 16, 16, 17, 20, 20, 20]\n"
     ]
    }
   ],
   "source": [
    "import random\n",
    "lyst = [random.randint(0,20)for i in range(15)]\n",
    "print(lyst)\n",
    "print(quicksort(lyst))"
   ]
  }
 ],
 "metadata": {
  "kernelspec": {
   "display_name": "Python 3",
   "language": "python",
   "name": "python3"
  },
  "language_info": {
   "codemirror_mode": {
    "name": "ipython",
    "version": 3
   },
   "file_extension": ".py",
   "mimetype": "text/x-python",
   "name": "python",
   "nbconvert_exporter": "python",
   "pygments_lexer": "ipython3",
   "version": "3.6.5"
  }
 },
 "nbformat": 4,
 "nbformat_minor": 2
}
