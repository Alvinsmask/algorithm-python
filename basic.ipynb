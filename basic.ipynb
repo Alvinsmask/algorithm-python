{
 "cells": [
  {
   "cell_type": "markdown",
   "metadata": {},
   "source": [
    "## 搜索 排序 的基本算法"
   ]
  },
  {
   "cell_type": "markdown",
   "metadata": {},
   "source": [
    "### 有序列表的二叉搜索"
   ]
  },
  {
   "cell_type": "code",
   "execution_count": 1,
   "metadata": {},
   "outputs": [
    {
     "data": {
      "text/plain": [
       "2"
      ]
     },
     "execution_count": 1,
     "metadata": {},
     "output_type": "execute_result"
    }
   ],
   "source": [
    "def binarysearch(target, sortedlist):\n",
    "    left = 0  # 表示的都是有序列表(升序)的下标\n",
    "    right = len(sortedlist)-1\n",
    "    while(left <= right):\n",
    "        mid = (left+right)//2\n",
    "        if target == sortedlist[mid]: \n",
    "            return mid\n",
    "        elif target < sortedlist[mid]: \n",
    "            right = mid - 1\n",
    "        else:\n",
    "            left = mid + 1\n",
    "    rerutn -1\n",
    "    \n",
    "target, sortedlist = 5, [2, 3, 5, 6, 7, 21, 32]\n",
    "binarysearch(target, sortedlist)"
   ]
  },
  {
   "cell_type": "markdown",
   "metadata": {},
   "source": [
    "### 对数据项的比较\n",
    "\n",
    "为了允许算法对一个新对象的类使用比较运算符　＝＝　＜　与　＞，应当在类中定义\\_\\_eq\\_\\_, \\_\\_lt\\_\\_, \\_\\_gt\\_\\_ 方法；\n",
    "\n",
    "这样的话,在进行自定义数据类型的比较是相应的比较运算符就会被重载为\\_\\_eq\\_\\_, \\_\\_lt\\_\\_, \\_\\_gt\\_\\_ 方法.\n",
    "\n",
    "*示例如下* : 一个包含三个字段的自定义数据类型, name,pin,balance(余额);比较大小,排序按照name的字母顺序进行;\n",
    "\n",
    "**除此之外\\_\\_le\\_\\_表示<= \\_\\_ne\\_\\_表示 !=** 其他类比"
   ]
  },
  {
   "cell_type": "code",
   "execution_count": 2,
   "metadata": {},
   "outputs": [
    {
     "data": {
      "text/plain": [
       "True"
      ]
     },
     "execution_count": 2,
     "metadata": {},
     "output_type": "execute_result"
    }
   ],
   "source": [
    "class savingaccount(object):\n",
    "    def __init__(self, name, pin, balance=0.0):\n",
    "        self._name = name\n",
    "        self._pin = pin\n",
    "        self._balance = balance\n",
    "    \n",
    "    def __eq__(self,other):\n",
    "        return self._name == other._name\n",
    "    \n",
    "    def __lt__(self,other):\n",
    "        return self._name < other._name\n",
    "    \n",
    "    def __gt__(self,other):\n",
    "        return self._name > other._name\n",
    "    \n",
    "s1 = savingaccount('jack', '1001')\n",
    "s2 = savingaccount('bob', '1000')\n",
    "s1 > s2"
   ]
  },
  {
   "cell_type": "markdown",
   "metadata": {},
   "source": [
    "### 基本排序算法"
   ]
  },
  {
   "cell_type": "code",
   "execution_count": 3,
   "metadata": {},
   "outputs": [
    {
     "data": {
      "text/plain": [
       "[1, 1, 2, 3, 3, 5, 68, 77, 213, 321, 667]"
      ]
     },
     "execution_count": 3,
     "metadata": {},
     "output_type": "execute_result"
    }
   ],
   "source": [
    "'''选择排序'''\n",
    "# 搜索整个列表找到最小项的位置,如果该位置不是列表的首位则与首位交换,然后从列表第二项开始继续重复搜索\n",
    "def swap(lyst, i, j):\n",
    "    \"\"\"定义排序过程中交换列表中两项位置的函数\"\"\"\n",
    "    temp = lyst[i]\n",
    "    lyst[i] = lyst[j]\n",
    "    lyst[j] = temp\n",
    "\n",
    "\n",
    "def selectionsort(lyst):\n",
    "    i = 0\n",
    "    while i < len(lyst) - 1:\n",
    "        minindex = i\n",
    "        j = i + 1\n",
    "        while j < len(lyst):\n",
    "            if lyst[j] < lyst[minindex]:\n",
    "                swap(lyst, j, minindex)\n",
    "                minindex = j\n",
    "            j += 1\n",
    "        i += 1\n",
    "    return lyst\n",
    "selectionsort([2,1,1,77,3,3,5,321,68,213,667])"
   ]
  },
  {
   "cell_type": "code",
   "execution_count": 4,
   "metadata": {},
   "outputs": [
    {
     "data": {
      "text/plain": [
       "[1, 1, 2, 3, 3, 5, 68, 77, 213, 321, 667]"
      ]
     },
     "execution_count": 4,
     "metadata": {},
     "output_type": "execute_result"
    }
   ],
   "source": [
    "\"\"\"冒泡排序\"\"\"\n",
    "# bubble sort 从列表开头处开始,逐次比较一对数据项,直到移动到列表末尾,每当成对的两项之间的顺序不正确的时候,算法就交换其位置\n",
    "def bubblesort(lyst):\n",
    "    i = 0\n",
    "    while(i<len(lyst)-1):\n",
    "        swapped = False\n",
    "        j = i+1\n",
    "        while j<len(lyst):\n",
    "            if lyst[j-1]>lyst[j]:\n",
    "                swap(lyst, j-1, j)\n",
    "                swapped = True\n",
    "            j += 1\n",
    "        if not swapped == True: return lyst\n",
    "        i += 1\n",
    "    return lyst\n",
    "        \n",
    "bubblesort([2,1,1,77,3,3,5,321,68,213,667])"
   ]
  },
  {
   "cell_type": "code",
   "execution_count": 5,
   "metadata": {},
   "outputs": [
    {
     "data": {
      "text/plain": [
       "[1, 1, 2, 3, 3, 5, 68, 77, 213, 321, 667]"
      ]
     },
     "execution_count": 5,
     "metadata": {},
     "output_type": "execute_result"
    }
   ],
   "source": [
    "\"\"\"插入排序\"\"\"\n",
    "# 在第i次循环的时候把数据插入第i个正确的位置\n",
    "def insertsort(lyst):\n",
    "    i = 0\n",
    "    while i < len(lyst)-1:\n",
    "        j = i+1\n",
    "        while j<len(lyst):\n",
    "            if lyst[i]>lyst[j]:\n",
    "                swap(lyst, i, j)\n",
    "            j += 1\n",
    "        i += 1\n",
    "    return lyst\n",
    "insertsort([2,1,1,77,3,3,5,321,68,213,667])"
   ]
  },
  {
   "cell_type": "markdown",
   "metadata": {},
   "source": [
    "### 快速排序\n",
    "\n",
    "基准点与边界相遇时确认分割得到两个子列表,递归地使用,当所有子列表最大长度均为1时,完成排序;**基准点的选择可以采用随机位置, 或者第一个元素\n",
    " 中间元素和最后的元素之间的中位数的位置**\n",
    " \n",
    " **最好情况下性能为O(nlog2n)最坏情况下为O(n2)**\n",
    " \n",
    " **最好情况下,内存使用情况是O(log2n),最坏情况下,内存使用为O(n)**"
   ]
  },
  {
   "cell_type": "markdown",
   "metadata": {},
   "source": [
    "#### 分割子列表的算法描述:\n",
    "\n",
    "1. 将基准点和子列表中的最后一项交换\n",
    "2. 在已知小于基准点的项和剩余的项之间建立一个边界,一开始这个边界放在第一项之前\n",
    "3. 从子列表的第一项开始,扫描整个子列表,每次遇到小于基准点的项就将其与边界之后的第一项交换,并且边界向后移动\n",
    "4. 将基准点和边界之后的第一项交换, 完成这个过程"
   ]
  },
  {
   "cell_type": "code",
   "execution_count": 6,
   "metadata": {},
   "outputs": [],
   "source": [
    "# 原地排序,无须另外开辟内存\n",
    "def quicksort(lyst):\n",
    "    return quicksorthelper(lyst,0,len(lyst)-1)\n",
    "def quicksorthelper(lyst,left,right):  # 辅助函数,隐藏了递归调用所需要的额外参数\n",
    "    if left<right:\n",
    "        pivotlocation = partition(lyst,left,right)\n",
    "        quicksorthelper(lyst,left,pivotlocation-1)  # 递归\n",
    "        quicksorthelper(lyst,pivotlocation+1,right)\n",
    "    return lyst\n",
    "def partition(lyst,left,right):\n",
    "    middle=(left+right)//2\n",
    "    pivot = lyst[middle]\n",
    "    lyst[middle]=lyst[right]\n",
    "    lyst[right]=pivot\n",
    "    boundary=left\n",
    "    for i in range(left,right):\n",
    "        if lyst[i]<pivot:  # 扫描子列表,遇到小于基准点的项就将其与边界之后的第一项交换,并且边界向后移动\n",
    "            swap(lyst,i,boundary)\n",
    "            boundary += 1\n",
    "    swap(lyst,right,boundary)\n",
    "    return boundary"
   ]
  },
  {
   "cell_type": "code",
   "execution_count": 14,
   "metadata": {},
   "outputs": [
    {
     "name": "stdout",
     "output_type": "stream",
     "text": [
      "[8, 5, 11, 6, 18, 3, 20, 0, 19, 18, 20, 7, 11, 14, 11]\n",
      "[0, 3, 5, 6, 7, 8, 11, 11, 11, 14, 18, 18, 19, 20, 20]\n"
     ]
    }
   ],
   "source": [
    "import random\n",
    "lyst = [random.randint(0,20)for i in range(15)]\n",
    "print(lyst)\n",
    "print(quicksort(lyst))"
   ]
  },
  {
   "cell_type": "markdown",
   "metadata": {},
   "source": [
    "### 归并排序\n",
    "\n",
    "1. 计算一个列表的中间位置,并且递归地排序其左边和右边的子列表(分治算法)\n",
    "2. 将两个排好序的列表,重新合并为单个排好序的列表\n",
    "3. 当子列表不能够划分的时候,停止递归\n",
    "\n",
    "**归并排序需要额外的辅助空间,但是它需要创建辅助空间，需要多次赋值运算，所以和快速排序的效率不相上下。**"
   ]
  },
  {
   "cell_type": "code",
   "execution_count": 42,
   "metadata": {},
   "outputs": [
    {
     "name": "stdout",
     "output_type": "stream",
     "text": [
      "i1(low) 0 i2 1 middle 0 high 1\n",
      "i1(low) 0 i2 2 middle 0 high 1\n",
      "array('d', [3.0, 5.0, 0.0, 0.0, 0.0, 0.0, 0.0])\n",
      "i1(low) 2 i2 3 middle 2 high 3\n",
      "i1(low) 3 i2 3 middle 2 high 3\n",
      "array('d', [3.0, 5.0, 1.0, 2.0, 0.0, 0.0, 0.0])\n",
      "i1(low) 0 i2 2 middle 1 high 3\n",
      "i1(low) 0 i2 3 middle 1 high 3\n",
      "i1(low) 0 i2 4 middle 1 high 3\n",
      "i1(low) 1 i2 4 middle 1 high 3\n",
      "array('d', [1.0, 2.0, 3.0, 5.0, 0.0, 0.0, 0.0])\n",
      "i1(low) 4 i2 5 middle 4 high 5\n",
      "i1(low) 5 i2 5 middle 4 high 5\n",
      "array('d', [1.0, 2.0, 3.0, 5.0, 4.0, 8.0, 0.0])\n",
      "i1(low) 4 i2 6 middle 5 high 6\n",
      "i1(low) 5 i2 6 middle 5 high 6\n",
      "i1(low) 5 i2 7 middle 5 high 6\n",
      "array('d', [1.0, 2.0, 3.0, 5.0, 4.0, 6.0, 8.0])\n",
      "i1(low) 0 i2 4 middle 3 high 6\n",
      "i1(low) 1 i2 4 middle 3 high 6\n",
      "i1(low) 2 i2 4 middle 3 high 6\n",
      "i1(low) 3 i2 4 middle 3 high 6\n",
      "i1(low) 3 i2 5 middle 3 high 6\n",
      "i1(low) 4 i2 5 middle 3 high 6\n",
      "i1(low) 4 i2 6 middle 3 high 6\n",
      "array('d', [1.0, 2.0, 3.0, 4.0, 5.0, 6.0, 8.0])\n"
     ]
    }
   ],
   "source": [
    "from array import array\n",
    "'''\n",
    "合并的过程使用了和列表相同大小的一个数组,命名为copybuffer,为了避免每次merge的时候为copybuffer分配释放内存的开销,\n",
    "只在mergesort中分配一次缓冲区,然后在merge的过程中对buffer区的每一个位置赋值,原数组上的切片\n",
    "'''\n",
    "def mergesort(lyst):\n",
    "    copybuffer = array('d',[0 for i in range(len(lyst))])  # 数据类型固定的数组\n",
    "    mergesorthelper(lyst,copybuffer,0,len(lyst)-1)\n",
    "    return lyst\n",
    "    \n",
    "    \n",
    "def mergesorthelper(lyst,copybuffer,low,high):\n",
    "    if low<high:\n",
    "        middle = (low+high)//2\n",
    "        mergesorthelper(lyst,copybuffer,low,middle)\n",
    "        mergesorthelper(lyst,copybuffer,middle+1,high)\n",
    "        merge(lyst,copybuffer,low,middle,high)\n",
    "        \n",
    "        \n",
    "def merge(lyst,copybuffer,low,middle,high):\n",
    "    i1=low  # 分别是两个子列表的起始边界\n",
    "    i2=middle+1\n",
    "    for i in range(low,high+1):\n",
    "        '''\n",
    "        for循环实现merge实质上是对子列表边界的操作;不断更新边界的做法是逆推递归的一种体现\n",
    "        '''\n",
    "        print('i1(low) {} i2 {} middle {} high {}'.format(i1,i2, middle,high))\n",
    "        if i1>middle:  # i1越界表明第一个子列表已经merge完毕,接下来要返回第一个子列表进行merge\n",
    "            copybuffer[i]=lyst[i2] \n",
    "            i2 += 1\n",
    "        elif i2>high:  # i2越界表明第二个子列表已经merge完毕,要返回第一个子列表进行merge 第一个子列表边界+1\n",
    "            copybuffer[i]=lyst[i1]\n",
    "            i1 += 1\n",
    "        elif lyst[i1]<lyst[i2]:  # 第一个子列表第一项较小,加入copybuffer, 然后第一个子列表边界＋1\n",
    "            copybuffer[i]=lyst[i1]\n",
    "            i1 += 1\n",
    "        else:\n",
    "            copybuffer[i]=lyst[i2]  # 第二个子列表第一项较小,加入copybuffer, 然后第二个子列表边界＋1\n",
    "            i2 += 1\n",
    "            \n",
    "    for i in range(low,high+1):\n",
    "        lyst[i] = copybuffer[i]\n",
    "    print(copybuffer)\n",
    "    \n",
    "\n",
    "mergesort([5,3,1,2,4,8,6])"
   ]
  },
  {
   "cell_type": "code",
   "execution_count": 44,
   "metadata": {},
   "outputs": [
    {
     "data": {
      "text/plain": [
       "[0, 0, 0, 0, 0, 0, 0, 0, 0, 0, 0, 0, 0, 0, 0]"
      ]
     },
     "execution_count": 44,
     "metadata": {},
     "output_type": "execute_result"
    }
   ],
   "source": [
    "copybuffer = array(u'l')\n",
    "# help(array)\n",
    "[0 for i in range(len(lyst))]"
   ]
  },
  {
   "cell_type": "code",
   "execution_count": 48,
   "metadata": {},
   "outputs": [
    {
     "data": {
      "text/plain": [
       "[1, 2, 3, 4, 5, 6, 7, 8]"
      ]
     },
     "execution_count": 48,
     "metadata": {},
     "output_type": "execute_result"
    }
   ],
   "source": [
    "# 另一个版本的归并排序, 使用了list的pop函数的快速特性\n",
    "def mergesortv2(lyst):\n",
    "    mid = len(lyst)//2\n",
    "    lft,rgt = lyst[:mid], lyst[mid:]\n",
    "    if len(lft) > 1: lft = mergesortv2(lft)\n",
    "    if len(rgt) > 1: rgt = mergesortv2(rgt)\n",
    "    res = []\n",
    "    while lft and rgt:\n",
    "        if lft[-1]>=rgt[-1]:\n",
    "            res.append(lft.pop())\n",
    "        else:\n",
    "            res.append(rgt.pop())\n",
    "    res.reverse()\n",
    "    return (lft or rgt)+res\n",
    "mergesortv2([5,3,1,2,4,8,6,7])\n",
    "\n",
    "            \n"
   ]
  }
 ],
 "metadata": {
  "kernelspec": {
   "display_name": "Python 3",
   "language": "python",
   "name": "python3"
  },
  "language_info": {
   "codemirror_mode": {
    "name": "ipython",
    "version": 3
   },
   "file_extension": ".py",
   "mimetype": "text/x-python",
   "name": "python",
   "nbconvert_exporter": "python",
   "pygments_lexer": "ipython3",
   "version": "3.6.5"
  }
 },
 "nbformat": 4,
 "nbformat_minor": 2
}
