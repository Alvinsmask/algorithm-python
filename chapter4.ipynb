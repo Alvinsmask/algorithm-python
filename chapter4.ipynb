{
 "cells": [
  {
   "cell_type": "code",
   "execution_count": 22,
   "metadata": {
    "collapsed": true
   },
   "outputs": [],
   "source": [
    "import scipy\n",
    "import numpy as np"
   ]
  },
  {
   "cell_type": "code",
   "execution_count": 24,
   "metadata": {
    "collapsed": false
   },
   "outputs": [
    {
     "name": "stdout",
     "output_type": "stream",
     "text": [
      "{'c', 'e', 'a', 'f', 'd', 'b'}\n"
     ]
    },
    {
     "data": {
      "text/plain": [
       "'c'"
      ]
     },
     "execution_count": 24,
     "metadata": {},
     "output_type": "execute_result"
    }
   ],
   "source": [
    "# 拓扑排序问题\n",
    "# 邻接集表示DAG\n",
    "N = {\n",
    "    'a':set('bf'),\n",
    "    'b':set('cdf'),\n",
    "    'c':set('d'),\n",
    "    'd':set('ef'),\n",
    "    'e':set('f'),\n",
    "    'f':set('')\n",
    "}\n",
    "# set函数将字符串变为集合\n",
    "d = set(N)\n",
    "print(d)\n",
    "d.pop()"
   ]
  },
  {
   "cell_type": "code",
   "execution_count": 25,
   "metadata": {
    "collapsed": false
   },
   "outputs": [
    {
     "name": "stdout",
     "output_type": "stream",
     "text": [
      "v : c\n",
      "v : e\n",
      "v : a\n",
      "v : f\n",
      "v : d\n"
     ]
    },
    {
     "data": {
      "text/plain": [
       "['a', 'b', 'c', 'd', 'e', 'f']"
      ]
     },
     "execution_count": 25,
     "metadata": {},
     "output_type": "execute_result"
    }
   ],
   "source": [
    "# 朴素版本的拓扑排序法, 现在也得出了正确结论，那之前咋回事？？？？\n",
    "def naive_topsort(G, S=None):\n",
    "#     print(G, S, set(G))\n",
    "    if S is None : S = set(G)\n",
    "#     print(S)\n",
    "    if len(S) == 1:return list(S)\n",
    "    v = S.pop()\n",
    "    print('v : {}'.format(v))\n",
    "    seq = naive_topsort(G, S)\n",
    "    min_i = 0\n",
    "    for i, u in enumerate(seq):\n",
    "        if v in G[u]: min_i = i+1\n",
    "    seq.insert(min_i, v)\n",
    "#     print(seq)\n",
    "    return seq\n",
    "naive_topsort(N)\n",
    "\n",
    "# 不断进行每次少一个的归简，直到剩下最后两个，把入度最小的作为初始节点\n",
    "# 本例是一个平方级别的运算 T(n)=T(n-1)+n "
   ]
  },
  {
   "cell_type": "code",
   "execution_count": 26,
   "metadata": {
    "collapsed": false
   },
   "outputs": [
    {
     "data": {
      "text/plain": [
       "{'b', 'f'}"
      ]
     },
     "execution_count": 26,
     "metadata": {},
     "output_type": "execute_result"
    }
   ],
   "source": [
    "N['a']"
   ]
  },
  {
   "cell_type": "code",
   "execution_count": 29,
   "metadata": {
    "collapsed": false
   },
   "outputs": [
    {
     "name": "stdout",
     "output_type": "stream",
     "text": [
      "{'a': 0, 'b': 1, 'c': 0, 'd': 0, 'e': 0, 'f': 1}\n",
      "{'a': 0, 'b': 1, 'c': 1, 'd': 1, 'e': 0, 'f': 2}\n",
      "{'a': 0, 'b': 1, 'c': 1, 'd': 2, 'e': 0, 'f': 2}\n",
      "{'a': 0, 'b': 1, 'c': 1, 'd': 2, 'e': 1, 'f': 3}\n",
      "{'a': 0, 'b': 1, 'c': 1, 'd': 2, 'e': 1, 'f': 4}\n",
      "{'a': 0, 'b': 1, 'c': 1, 'd': 2, 'e': 1, 'f': 4}\n",
      "['a']\n",
      "{'a': 0, 'b': 1, 'c': 1, 'd': 2, 'e': 1, 'f': 3}\n",
      "{'a': 0, 'b': 0, 'c': 1, 'd': 2, 'e': 1, 'f': 3}\n",
      "{'a': 0, 'b': 0, 'c': 0, 'd': 2, 'e': 1, 'f': 3}\n",
      "{'a': 0, 'b': 0, 'c': 0, 'd': 1, 'e': 1, 'f': 3}\n",
      "{'a': 0, 'b': 0, 'c': 0, 'd': 1, 'e': 1, 'f': 2}\n",
      "{'a': 0, 'b': 0, 'c': 0, 'd': 0, 'e': 1, 'f': 2}\n",
      "{'a': 0, 'b': 0, 'c': 0, 'd': 0, 'e': 1, 'f': 1}\n",
      "{'a': 0, 'b': 0, 'c': 0, 'd': 0, 'e': 0, 'f': 1}\n",
      "{'a': 0, 'b': 0, 'c': 0, 'd': 0, 'e': 0, 'f': 0}\n"
     ]
    },
    {
     "data": {
      "text/plain": [
       "['a', 'b', 'c', 'd', 'e', 'f']"
      ]
     },
     "execution_count": 29,
     "metadata": {},
     "output_type": "execute_result"
    }
   ],
   "source": [
    "# 迭代版本的算法, 这个会得出正确结论\n",
    "def topsort(G):\n",
    "    count = dict((u, 0) for u in G)  # 套用列表生成式的字典生成格式\n",
    "#     print(count)\n",
    "    for u in G:  # 遍历各个节点 计算他们的入度，哈希结构这样为常数操作？整体变为线性级别的\n",
    "        for v in G[u]:\n",
    "            count[v] += 1\n",
    "        print(count)\n",
    "    Q = [u for u in G if count[u] == 0]  # 因为是DAG就一定有入度为0的节点，找出该节点\n",
    "    S = []\n",
    "    print(Q)\n",
    "    while Q:\n",
    "        u = Q.pop()\n",
    "        S.append(u)  # 如果Q非空 将该节点放在列表首位\n",
    "        for v in G[u]:  # 确定好一个节点的位置寻找下一个节点，减去已确定节点的出边，然后再找入边为零的作为下一个节点，如此往复\n",
    "            count[v] -= 1\n",
    "            print(count)\n",
    "            if count[v] == 0:\n",
    "                Q.append(v)\n",
    "    return S\n",
    "topsort(N)"
   ]
  },
  {
   "cell_type": "code",
   "execution_count": 7,
   "metadata": {
    "collapsed": true
   },
   "outputs": [],
   "source": [
    "l=[0, 1, 2]\n",
    "l.insert(0, 5)"
   ]
  },
  {
   "cell_type": "code",
   "execution_count": 8,
   "metadata": {
    "collapsed": false
   },
   "outputs": [
    {
     "data": {
      "text/plain": [
       "[5, 0, 1, 2]"
      ]
     },
     "execution_count": 8,
     "metadata": {},
     "output_type": "execute_result"
    }
   ],
   "source": [
    "l"
   ]
  },
  {
   "cell_type": "code",
   "execution_count": 15,
   "metadata": {
    "collapsed": false
   },
   "outputs": [
    {
     "name": "stdout",
     "output_type": "stream",
     "text": [
      "{'c', 'e', 'a', 'f', 'd', 'b'}\n",
      "c\n",
      "v : c\n"
     ]
    }
   ],
   "source": []
  },
  {
   "cell_type": "code",
   "execution_count": null,
   "metadata": {
    "collapsed": true
   },
   "outputs": [],
   "source": []
  },
  {
   "cell_type": "code",
   "execution_count": null,
   "metadata": {
    "collapsed": true
   },
   "outputs": [],
   "source": []
  }
 ],
 "metadata": {
  "kernelspec": {
   "display_name": "Python 3",
   "language": "python",
   "name": "python3"
  },
  "language_info": {
   "codemirror_mode": {
    "name": "ipython",
    "version": 3
   },
   "file_extension": ".py",
   "mimetype": "text/x-python",
   "name": "python",
   "nbconvert_exporter": "python",
   "pygments_lexer": "ipython3",
   "version": "3.6.3"
  }
 },
 "nbformat": 4,
 "nbformat_minor": 2
}
