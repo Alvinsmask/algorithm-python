{
 "cells": [
  {
   "cell_type": "code",
   "execution_count": 24,
   "metadata": {
    "collapsed": true
   },
   "outputs": [],
   "source": [
    "class Node:\n",
    "    lft = None\n",
    "    rgt = None\n",
    "    def __init__(self, key, val):\n",
    "        self.key = key\n",
    "        self.val = val\n",
    "a = Node(0,'a')"
   ]
  },
  {
   "cell_type": "code",
   "execution_count": 34,
   "metadata": {
    "collapsed": false
   },
   "outputs": [],
   "source": [
    "def insert(node,key,val):\n",
    "    if node is None: return Node(key,val)\n",
    "    print('current node: key:{} val:{}'.format(key, val))\n",
    "    if node.key == key: node.val = val\n",
    "    elif key < node.key:\n",
    "        node.lft = insert(node.lft,key,val)\n",
    "    else:\n",
    "        node.rgt = insert(node.rgt,key,val)\n",
    "    return node"
   ]
  },
  {
   "cell_type": "code",
   "execution_count": 35,
   "metadata": {
    "collapsed": true
   },
   "outputs": [],
   "source": [
    "def search(node,key):\n",
    "    if node is None: raise KeyError\n",
    "    if node.key == key: return node.val\n",
    "    elif key < node.key:\n",
    "        return search(node.lft,key)\n",
    "    else:\n",
    "        return search(node.rgt,key)\n",
    "# 搜索函数的测试代码也需要给定一个初始搜索起点，只有在根节点才能完全搜索完整棵树"
   ]
  },
  {
   "cell_type": "code",
   "execution_count": 36,
   "metadata": {
    "collapsed": true
   },
   "outputs": [],
   "source": [
    "class Tree:\n",
    "    root = None\n",
    "    def __setitem__(self,key,val):\n",
    "        self.root = insert(self.root,key,val)\n",
    "    def __getitem__(self, key):\n",
    "        return search(self.root,key)\n",
    "    def __contains__(self,key):\n",
    "        try:search(self.root, key)\n",
    "        except KeyError: return False\n",
    "        return True\n",
    "# 测试程序中应当先设置一个root节点，然后调用插入函数逐步构建\n"
   ]
  },
  {
   "cell_type": "code",
   "execution_count": 39,
   "metadata": {
    "collapsed": false
   },
   "outputs": [],
   "source": [
    "tr1 = Tree"
   ]
  },
  {
   "cell_type": "code",
   "execution_count": 47,
   "metadata": {
    "collapsed": false
   },
   "outputs": [
    {
     "name": "stdout",
     "output_type": "stream",
     "text": [
      "current node: key:4 val:e\n",
      "current node: key:4 val:e\n",
      "current node: key:4 val:e\n",
      "a\n"
     ]
    }
   ],
   "source": [
    "# tr1.__setitem__(tr1,0,'a')\n",
    "# tr1.__setitem__(tr1,3,'d')\n",
    "# tr1.__setitem__(tr1,2,'c')\n",
    "tr1.__setitem__(tr1,4,'e')\n",
    "# tr1.__setitem__(tr1,1,'b')\n",
    "# tr1.__setitem__(tr1,5,'f')\n",
    "# tr1.__setitem__(tr1,6,'g')\n",
    "print(tr1.root.val)"
   ]
  },
  {
   "cell_type": "code",
   "execution_count": 48,
   "metadata": {
    "collapsed": false
   },
   "outputs": [
    {
     "data": {
      "text/plain": [
       "False"
      ]
     },
     "execution_count": 48,
     "metadata": {},
     "output_type": "execute_result"
    }
   ],
   "source": [
    "tr1.__contains__(tr1,9)\n",
    "(insert(a,7,'h')).val"
   ]
  },
  {
   "cell_type": "markdown",
   "metadata": {},
   "source": [
    "**以上，二分搜索树最关键的一个步骤是确定序列的中位数值（未来根节点）**"
   ]
  },
  {
   "cell_type": "code",
   "execution_count": null,
   "metadata": {
    "collapsed": true
   },
   "outputs": [],
   "source": []
  }
 ],
 "metadata": {
  "kernelspec": {
   "display_name": "Python 3",
   "language": "python",
   "name": "python3"
  },
  "language_info": {
   "codemirror_mode": {
    "name": "ipython",
    "version": 3
   },
   "file_extension": ".py",
   "mimetype": "text/x-python",
   "name": "python",
   "nbconvert_exporter": "python",
   "pygments_lexer": "ipython3",
   "version": "3.6.3"
  }
 },
 "nbformat": 4,
 "nbformat_minor": 2
}
