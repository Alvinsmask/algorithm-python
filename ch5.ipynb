{
 "cells": [
  {
   "cell_type": "code",
   "execution_count": 47,
   "metadata": {
    "collapsed": true
   },
   "outputs": [],
   "source": [
    "import collections as co"
   ]
  },
  {
   "cell_type": "code",
   "execution_count": 2,
   "metadata": {
    "collapsed": true
   },
   "outputs": [],
   "source": [
    "dic = co.OrderedDict()"
   ]
  },
  {
   "cell_type": "code",
   "execution_count": 3,
   "metadata": {
    "collapsed": true
   },
   "outputs": [],
   "source": [
    "dic['alvin'] = 100\n",
    "dic['cheer'] = 200"
   ]
  },
  {
   "cell_type": "code",
   "execution_count": 4,
   "metadata": {},
   "outputs": [
    {
     "data": {
      "text/plain": [
       "OrderedDict([('alvin', 100), ('cheer', 200)])"
      ]
     },
     "execution_count": 4,
     "metadata": {},
     "output_type": "execute_result"
    }
   ],
   "source": [
    "dic"
   ]
  },
  {
   "cell_type": "code",
   "execution_count": 5,
   "metadata": {},
   "outputs": [
    {
     "name": "stdout",
     "output_type": "stream",
     "text": [
      "('alvin', 100)\n",
      "('cheer', 200)\n"
     ]
    }
   ],
   "source": [
    "for i in dic.items():\n",
    "    print(i)"
   ]
  },
  {
   "cell_type": "code",
   "execution_count": 8,
   "metadata": {},
   "outputs": [
    {
     "name": "stdout",
     "output_type": "stream",
     "text": [
      "alvin 100\n",
      "cheer 200\n"
     ]
    }
   ],
   "source": [
    "for n, s in dic.items():\n",
    "    print(n, s)"
   ]
  },
  {
   "cell_type": "code",
   "execution_count": 19,
   "metadata": {
    "collapsed": true
   },
   "outputs": [],
   "source": [
    "dic2 = co.defaultdict(list)"
   ]
  },
  {
   "cell_type": "code",
   "execution_count": 20,
   "metadata": {},
   "outputs": [
    {
     "data": {
      "text/plain": [
       "defaultdict(list, {})"
      ]
     },
     "execution_count": 20,
     "metadata": {},
     "output_type": "execute_result"
    }
   ],
   "source": [
    "dic2"
   ]
  },
  {
   "cell_type": "code",
   "execution_count": 21,
   "metadata": {},
   "outputs": [
    {
     "data": {
      "text/plain": [
       "[]"
      ]
     },
     "execution_count": 21,
     "metadata": {},
     "output_type": "execute_result"
    }
   ],
   "source": [
    "dic2['alvin']"
   ]
  },
  {
   "cell_type": "code",
   "execution_count": 22,
   "metadata": {
    "collapsed": true
   },
   "outputs": [],
   "source": [
    "dic2['alvin'].append(99.5)"
   ]
  },
  {
   "cell_type": "code",
   "execution_count": 23,
   "metadata": {},
   "outputs": [
    {
     "data": {
      "text/plain": [
       "defaultdict(list, {'alvin': [99.5]})"
      ]
     },
     "execution_count": 23,
     "metadata": {},
     "output_type": "execute_result"
    }
   ],
   "source": [
    "dic2"
   ]
  },
  {
   "cell_type": "code",
   "execution_count": 24,
   "metadata": {
    "collapsed": true
   },
   "outputs": [],
   "source": [
    "mytupleclass = co.namedtuple('mytupleclass', ['x','y','z'])"
   ]
  },
  {
   "cell_type": "code",
   "execution_count": 25,
   "metadata": {
    "collapsed": true
   },
   "outputs": [],
   "source": [
    "location = mytupleclass(1, 0, -1)"
   ]
  },
  {
   "cell_type": "code",
   "execution_count": 26,
   "metadata": {},
   "outputs": [
    {
     "data": {
      "text/plain": [
       "mytupleclass(x=1, y=0, z=-1)"
      ]
     },
     "execution_count": 26,
     "metadata": {},
     "output_type": "execute_result"
    }
   ],
   "source": [
    "location"
   ]
  },
  {
   "cell_type": "code",
   "execution_count": 27,
   "metadata": {},
   "outputs": [
    {
     "data": {
      "text/plain": [
       "0"
      ]
     },
     "execution_count": 27,
     "metadata": {},
     "output_type": "execute_result"
    }
   ],
   "source": [
    "location.y"
   ]
  },
  {
   "cell_type": "code",
   "execution_count": 154,
   "metadata": {},
   "outputs": [],
   "source": [
    "nums = [3,2,4]\n",
    "target = 6\n",
    "from collections import Counter\n",
    "res = []\n",
    "nums = [target-n for n in nums]\n",
    "c=Counter(nums)\n",
    "# dic = dict()\n",
    "# for index2 in range(len(nums)):\n",
    "#     dic[index2] = nums[index2]\n",
    "for index,num in enumerate(nums):\n",
    "    if (target-num) in nums and not((target-num)==(target//2) and c[target-num]%2 ==1):\n",
    "        res.append(index)"
   ]
  },
  {
   "cell_type": "code",
   "execution_count": 155,
   "metadata": {},
   "outputs": [
    {
     "name": "stdout",
     "output_type": "stream",
     "text": [
      "[1, 2] Counter({3: 1, 4: 1, 2: 1})\n"
     ]
    }
   ],
   "source": [
    "print(res,c)\n"
   ]
  },
  {
   "cell_type": "code",
   "execution_count": 129,
   "metadata": {},
   "outputs": [],
   "source": [
    "c=Counter([1,2,3,4,3,2,5])"
   ]
  },
  {
   "cell_type": "code",
   "execution_count": 132,
   "metadata": {},
   "outputs": [
    {
     "data": {
      "text/plain": [
       "1"
      ]
     },
     "execution_count": 132,
     "metadata": {},
     "output_type": "execute_result"
    }
   ],
   "source": [
    "c[5]"
   ]
  },
  {
   "cell_type": "code",
   "execution_count": 192,
   "metadata": {},
   "outputs": [],
   "source": [
    "nums = [3,3,9,4]\n",
    "target = 6\n",
    "from collections import Counter\n",
    "res = []\n",
    "dic = dict()\n",
    "for index2 in range(len(nums)):\n",
    "    dic[target-nums[index2]] = index2\n",
    "c=Counter(nums)\n",
    "for num in nums:\n",
    "    if (num) in dic.keys() and not((num)==(target//2) and c[num]%2 ==1):\n",
    "        res.append(dic[num])\n",
    "if res[1]==res[0]:\n",
    "    res = [index for index in range(len(nums)) if (nums[index]==nums[res[0]])]\n",
    "\n"
   ]
  },
  {
   "cell_type": "code",
   "execution_count": 193,
   "metadata": {},
   "outputs": [
    {
     "data": {
      "text/plain": [
       "[0, 1]"
      ]
     },
     "execution_count": 193,
     "metadata": {},
     "output_type": "execute_result"
    }
   ],
   "source": [
    "res"
   ]
  },
  {
   "cell_type": "code",
   "execution_count": 189,
   "metadata": {},
   "outputs": [],
   "source": [
    "d1=dict()\n",
    "res = []\n",
    "for i, j in enumerate(nums):\n",
    "    if j not in d1:\n",
    "        d1[target-j]=i\n",
    "    else:\n",
    "        res.extend([d1[j],i])   "
   ]
  },
  {
   "cell_type": "code",
   "execution_count": 190,
   "metadata": {},
   "outputs": [
    {
     "data": {
      "text/plain": [
       "[0, 1]"
      ]
     },
     "execution_count": 190,
     "metadata": {},
     "output_type": "execute_result"
    }
   ],
   "source": [
    "res"
   ]
  },
  {
   "cell_type": "code",
   "execution_count": 194,
   "metadata": {},
   "outputs": [
    {
     "data": {
      "text/plain": [
       "{-3: 2, 2: 3, 3: 1}"
      ]
     },
     "execution_count": 194,
     "metadata": {},
     "output_type": "execute_result"
    }
   ],
   "source": [
    "dic"
   ]
  },
  {
   "cell_type": "code",
   "execution_count": 195,
   "metadata": {},
   "outputs": [
    {
     "data": {
      "text/plain": [
       "True"
      ]
     },
     "execution_count": 195,
     "metadata": {},
     "output_type": "execute_result"
    }
   ],
   "source": [
    "-3 in dic"
   ]
  },
  {
   "cell_type": "code",
   "execution_count": 196,
   "metadata": {},
   "outputs": [
    {
     "data": {
      "text/plain": [
       "False"
      ]
     },
     "execution_count": 196,
     "metadata": {},
     "output_type": "execute_result"
    }
   ],
   "source": [
    "1 in dic"
   ]
  },
  {
   "cell_type": "code",
   "execution_count": 197,
   "metadata": {},
   "outputs": [
    {
     "data": {
      "text/plain": [
       "True"
      ]
     },
     "execution_count": 197,
     "metadata": {},
     "output_type": "execute_result"
    }
   ],
   "source": [
    "1 in dic.values()"
   ]
  },
  {
   "cell_type": "code",
   "execution_count": 83,
   "metadata": {},
   "outputs": [],
   "source": [
    "G = {\n",
    "    'a':set('bc'),\n",
    "    'b':set('dei'),\n",
    "    'c':set('d'),\n",
    "    'd':set('ah')\n",
    "}\n",
    "G2 = {\n",
    "    'e':set('f'),\n",
    "    'f':set('g'),\n",
    "    'g':set('he')\n",
    "}\n",
    "G3 = {\n",
    "    'h':set('i'),\n",
    "    'i':set('h')\n",
    "}"
   ]
  },
  {
   "cell_type": "code",
   "execution_count": 97,
   "metadata": {},
   "outputs": [
    {
     "name": "stdout",
     "output_type": "stream",
     "text": [
      "{'e': 'g', 'g': None, 'f': 'e'}\n"
     ]
    },
    {
     "data": {
      "text/plain": [
       "'\\nif v in G:\\n这一句是必须要加的不然会出现dict的KeyError错误，\\n确保下一个遍历的节点有出度（也就是在字典表示的图结构的key之中）\\n（没有出度的节点必然不可能是某节点的父节点）\\n如果不加，拿这个例子来看，最后遍历至h节点，在图中找不到哪一个节点是以h作为父节点的\\n直观表现就是，图字典中没有这个key\\n'"
      ]
     },
     "execution_count": 97,
     "metadata": {},
     "output_type": "execute_result"
    }
   ],
   "source": [
    "def walk(G, s, S=set()):\n",
    "    P, Q = dict(), set()\n",
    "    P[s] = None\n",
    "    Q.add(s)\n",
    "    while Q:\n",
    "        u = Q.pop()\n",
    "#         print('u is %s'%u)\n",
    "        for v in G[u].difference(P, S):\n",
    "            if v in G:  \n",
    "                Q.add(v) \n",
    "#             print(Q)\n",
    "                P[v] = u\n",
    "#             print(P)\n",
    "    return P\n",
    "print(walk(G2, 'g'))  # 因为e节点被赋值为None 故循环像是不执行一样， 也就是说在该子图里找不到e的父节点\n",
    "'''\n",
    "if v in G:\n",
    "这一句是必须要加的不然会出现dict的KeyError错误，\n",
    "确保下一个遍历的节点有出度（也就是在字典表示的图结构的key之中）\n",
    "（没有出度的节点必然不可能是某节点的父节点）\n",
    "如果不加，拿这个例子来看，最后遍历至h节点，在图中找不到哪一个节点是以h作为父节点的\n",
    "直观表现就是，图字典中没有这个key\n",
    "'''"
   ]
  },
  {
   "cell_type": "code",
   "execution_count": 84,
   "metadata": {},
   "outputs": [
    {
     "name": "stdout",
     "output_type": "stream",
     "text": [
      "{'i': {'h'}, 'g': {'e', 'h'}, 'h': {'i'}, 'f': {'g'}, 'c': {'d'}, 'b': {'e', 'i', 'd'}, 'e': {'f'}, 'd': {'h', 'a'}, 'a': {'b', 'c'}}\n"
     ]
    }
   ],
   "source": [
    "G.update(G2)\n",
    "G.update(G3)\n",
    "print(G)"
   ]
  },
  {
   "cell_type": "code",
   "execution_count": 134,
   "metadata": {},
   "outputs": [
    {
     "data": {
      "text/plain": [
       "['c', 'd', 'a', 'b', 'g', 'e', 'f', 'i', 'h']"
      ]
     },
     "execution_count": 134,
     "metadata": {},
     "output_type": "execute_result"
    }
   ],
   "source": [
    "# 基于dfs的拓扑排序\n",
    "def dfs_sort(G):\n",
    "    S, res = set(), []\n",
    "    def recurse(u):\n",
    "        if u in S: return  # 记录遍历过的节点，再次访问时直接跳出\n",
    "        S.add(u)\n",
    "        for v in G[u]:\n",
    "            if v in G:  #  排除掉没有出度的节点\n",
    "                recurse(v)\n",
    "        res.append(u)  # 按照递归深度的顺序添加节点（深度大，先完成遍历的在队列头），最后完成的是遍历起点（拓扑依赖关系的起始）\n",
    "#         print(res)\n",
    "    for u in G:\n",
    "#         print(u)\n",
    "        recurse(u)\n",
    "    res.reverse()  # 翻转结果列表\n",
    "    return res\n",
    "dfs_sort(G)"
   ]
  },
  {
   "cell_type": "code",
   "execution_count": 129,
   "metadata": {
    "scrolled": true
   },
   "outputs": [
    {
     "data": {
      "text/plain": [
       "{'a': {'d'},\n",
       " 'b': {'a'},\n",
       " 'c': {'a'},\n",
       " 'd': {'b', 'c'},\n",
       " 'e': {'b', 'g'},\n",
       " 'f': {'e'},\n",
       " 'g': {'f'},\n",
       " 'h': {'d', 'g', 'i'},\n",
       " 'i': {'b', 'h'}}"
      ]
     },
     "execution_count": 129,
     "metadata": {},
     "output_type": "execute_result"
    }
   ],
   "source": [
    "# 翻转图的各个边\n",
    "def tr(G):\n",
    "    GT = {}\n",
    "    for u in G:\n",
    "        GT[u] = set()  # 字典中的value是邻接集（集合）的数据格式\n",
    "    for u in G:\n",
    "        for v in G[u]:\n",
    "#             print('v=%s'%v)\n",
    "            GT[v].add(u)  # set()数据类型用add()添加新值\n",
    "    return GT\n",
    "tr(G)"
   ]
  },
  {
   "cell_type": "code",
   "execution_count": 135,
   "metadata": {},
   "outputs": [
    {
     "data": {
      "text/plain": [
       "[{'a': 'c', 'b': 'd', 'c': None, 'd': 'a'},\n",
       " {'e': 'f', 'f': 'g', 'g': None},\n",
       " {'h': 'i', 'i': None}]"
      ]
     },
     "execution_count": 135,
     "metadata": {},
     "output_type": "execute_result"
    }
   ],
   "source": [
    "# 查找图中强联通分量\n",
    "def scc(G):\n",
    "    GT = tr(G)\n",
    "    sccs, seen = [], set()\n",
    "    for u in dfs_sort(G):\n",
    "        if u in seen : continue\n",
    "        c = walk(GT, u, seen)\n",
    "        seen.update(c)\n",
    "        sccs.append(c)\n",
    "#         print('seen %s'%seen)\n",
    "    return sccs  # 返回各个强联通分量的遍历树\n",
    "scc(G)  # 因为dfs——top排序的结果返回的是['c', 'd', 'a', 'b', 'g', 'e', 'f', 'i', 'h']，所以遍历树才会是如下格式"
   ]
  },
  {
   "cell_type": "markdown",
   "metadata": {},
   "source": [
    "上面返回的结果为强联通分量的遍历树 具体为 c - a - d -b \n",
    "没有入边为None"
   ]
  },
  {
   "cell_type": "code",
   "execution_count": null,
   "metadata": {},
   "outputs": [],
   "source": [
    "a=set('abc')\n",
    "a.add('de')\n",
    "a"
   ]
  },
  {
   "cell_type": "code",
   "execution_count": 38,
   "metadata": {},
   "outputs": [
    {
     "name": "stdout",
     "output_type": "stream",
     "text": [
      "i\n",
      "g\n",
      "h\n",
      "f\n",
      "c\n",
      "b\n",
      "e\n",
      "d\n",
      "a\n"
     ]
    }
   ],
   "source": [
    "for u in G:\n",
    "    print(u)"
   ]
  },
  {
   "cell_type": "code",
   "execution_count": 136,
   "metadata": {},
   "outputs": [],
   "source": [
    "def walk1(G, s, S=set()):\n",
    "    P, Q = dict(), set()\n",
    "    P[s] = None\n",
    "    Q.add(s)\n",
    "    while Q:\n",
    "        u = Q.pop()\n",
    "#         print('u is %s'%u)\n",
    "        for v in G[u].difference(P, S):\n",
    "#             if v in G:  \n",
    "            Q.add(v) \n",
    "#             print(Q)\n",
    "            P[v] = u\n",
    "#             print(P)\n",
    "    return P\n",
    "def dfs_sort1(G):\n",
    "    S, res = set(), []\n",
    "    def recurse(u):\n",
    "        if u in S: return  # 记录遍历过的节点，再次访问时直接跳出\n",
    "        S.add(u)\n",
    "        for v in G[u]:\n",
    "#             if v in G:  #  排除掉没有出度的节点\n",
    "            recurse(v)\n",
    "        res.append(u)  # 按照递归深度的顺序添加节点（深度大，先完成遍历的在队列头），最后完成的是遍历起点（拓扑依赖关系的起始）\n",
    "#         print(res)\n",
    "    for u in G:\n",
    "#         print(u)\n",
    "        recurse(u)\n",
    "#     res.reverse()  # 翻转结果列表\n",
    "    return res\n",
    "def scc1(G):\n",
    "#     GT = tr(G)\n",
    "    sccs, seen = [], set()\n",
    "    for u in dfs_sort1(G):\n",
    "        if u in seen : continue\n",
    "        c = walk1(G, u, seen)\n",
    "        seen.update(c)\n",
    "        sccs.append(c)\n",
    "#         print('seen %s'%seen)\n",
    "    return sccs  # 返回各个强联通分量的遍历树\n",
    "# scc(G)  # 因为dfs——top排序的结果返回的是['c', 'd', 'a', 'b', 'g', 'e', 'f', 'i', 'h']，所以遍历树才会是如下格式"
   ]
  },
  {
   "cell_type": "markdown",
   "metadata": {},
   "source": [
    "**下面的cell 运行结果表明， 不翻转原图直接按照DFS完成的升序排列去寻找强连通分量会出现错误，只有最终简化图不存在开叉结构时才能保证两个算法结果完全一致**"
   ]
  },
  {
   "cell_type": "code",
   "execution_count": 138,
   "metadata": {},
   "outputs": [
    {
     "name": "stdout",
     "output_type": "stream",
     "text": [
      "[{'d': 'a', 'b': None, 'a': 'b'}, {'e': 'c', 'c': None}, {'g': None, 'h': 'g'}]\n"
     ]
    },
    {
     "data": {
      "text/plain": [
       "[{'g': 'h', 'h': None}, {'a': None, 'b': 'a', 'c': 'b', 'd': 'b', 'e': 'c'}]"
      ]
     },
     "execution_count": 138,
     "metadata": {},
     "output_type": "execute_result"
    }
   ],
   "source": [
    "G4 = {\n",
    "    'a':set('b'),\n",
    "    'b':set('dc'),\n",
    "    'c':set('e'),\n",
    "    'd':set('ag'),\n",
    "    'e':set('c'),\n",
    "    'g':set('h'),\n",
    "    'h':set('g')\n",
    "}\n",
    "print(scc(G4))\n",
    "scc1(G4)\n"
   ]
  },
  {
   "cell_type": "code",
   "execution_count": 88,
   "metadata": {},
   "outputs": [
    {
     "name": "stdout",
     "output_type": "stream",
     "text": [
      "{'b', 'a', None, 'c'}\n"
     ]
    }
   ],
   "source": [
    "a = set('abc')\n",
    "a.add(None)\n",
    "print(a)"
   ]
  },
  {
   "cell_type": "code",
   "execution_count": 60,
   "metadata": {},
   "outputs": [
    {
     "name": "stdout",
     "output_type": "stream",
     "text": [
      "u is i\n",
      "{'h'}\n",
      "{'i': None, 'h': 'i'}\n",
      "u is h\n"
     ]
    },
    {
     "data": {
      "text/plain": [
       "{'h': 'i', 'i': None}"
      ]
     },
     "execution_count": 60,
     "metadata": {},
     "output_type": "execute_result"
    }
   ],
   "source": [
    "walk1(G3, 'i')"
   ]
  },
  {
   "cell_type": "code",
   "execution_count": 107,
   "metadata": {},
   "outputs": [
    {
     "name": "stdout",
     "output_type": "stream",
     "text": [
      "i\n",
      "g\n",
      "h\n",
      "f\n",
      "c\n",
      "d\n",
      "e\n",
      "b\n",
      "a\n"
     ]
    },
    {
     "data": {
      "text/plain": [
       "['h', 'i', 'f', 'e', 'g', 'b', 'a', 'd', 'c']"
      ]
     },
     "execution_count": 107,
     "metadata": {},
     "output_type": "execute_result"
    }
   ],
   "source": [
    "for u in G4:\n",
    "    print(u)\n",
    "dfs_sort1(G4)"
   ]
  },
  {
   "cell_type": "code",
   "execution_count": 111,
   "metadata": {},
   "outputs": [
    {
     "data": {
      "text/plain": [
       "{'e': 'g', 'f': 'e', 'g': None, 'h': 'g', 'i': 'h'}"
      ]
     },
     "execution_count": 111,
     "metadata": {},
     "output_type": "execute_result"
    }
   ],
   "source": [
    "walk1(G4,'g')"
   ]
  },
  {
   "cell_type": "code",
   "execution_count": 121,
   "metadata": {},
   "outputs": [
    {
     "name": "stdout",
     "output_type": "stream",
     "text": [
      "d\n",
      "e\n",
      "b\n",
      "a\n",
      "c\n"
     ]
    },
    {
     "data": {
      "text/plain": [
       "['a', 'b', 'c', 'd', 'e']"
      ]
     },
     "execution_count": 121,
     "metadata": {},
     "output_type": "execute_result"
    }
   ],
   "source": []
  }
 ],
 "metadata": {
  "kernelspec": {
   "display_name": "Python 3",
   "language": "python",
   "name": "python3"
  },
  "language_info": {
   "codemirror_mode": {
    "name": "ipython",
    "version": 3
   },
   "file_extension": ".py",
   "mimetype": "text/x-python",
   "name": "python",
   "nbconvert_exporter": "python",
   "pygments_lexer": "ipython3",
   "version": "3.5.2"
  }
 },
 "nbformat": 4,
 "nbformat_minor": 2
}
